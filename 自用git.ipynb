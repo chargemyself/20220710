{
 "cells": [
  {
   "cell_type": "markdown",
   "id": "cc957e39-afcf-41ad-8d92-9dbe47421133",
   "metadata": {},
   "source": [
    "## git使用\n",
    "研究个git研究了半天，主流，什么分支都不懂。也没有适合的教程。甚至什么是git，什么是github都分不清楚。\n",
    "我就是学学编程，做做笔记，然后笔记在云端和本地同步，就这个简单的要求啊。，\n",
    "最后还是根据《自学是一门手艺》里面一步步来吧。如果版本控制工具，于是？\n",
    "+ 如果本地文件改变，如何上传？\n",
    "+ 如果远程文件改变，如何下载？\n",
    "+ 如何本地和远程文件都改变了，如何处理？\n",
    "\n"
   ]
  },
  {
   "cell_type": "code",
   "execution_count": null,
   "id": "2eb4ce65-bece-4f0a-9b9d-2f53d1ed0115",
   "metadata": {},
   "outputs": [],
   "source": [
    "# 文档查询 git\n",
    "git"
   ]
  },
  {
   "cell_type": "code",
   "execution_count": null,
   "id": "94800d73-e8b7-45b8-a3f9-0f5c69972591",
   "metadata": {},
   "outputs": [],
   "source": [
    "# 几个基本操作：配置git\n",
    "git config --global user.name \"runoob\"\n",
    "git config --global user.email test@runoob.com\n",
    "# 查询git配置信息\n",
    "git config --list\n",
    "# ssh  忽略吧\n",
    "ssh-keygen -t rsa -C 'youremail@qq.com'"
   ]
  },
  {
   "cell_type": "markdown",
   "id": "b5b1cc81-852c-4e2c-aad0-708b2601dc4f",
   "metadata": {},
   "source": [
    "克隆仓库之后，可以直接点击fork，创建一个分支"
   ]
  },
  {
   "cell_type": "code",
   "execution_count": null,
   "id": "765c2a2e-21cb-45d2-8b95-0022d2dc504c",
   "metadata": {},
   "outputs": [],
   "source": [
    "# 克隆远程仓库到本地\n",
    "git clone https://github.com/chargeself/20220707.git\n",
    "#这个是主仓库，如果我要赋值branch仓库内容了。让人迷惑啊。\n",
    "# 创建一个study的分支\n",
    "git branch study\n",
    "git checkout study\n",
    "# 添加文件,添加说明，添加本地文件到study的分支。\n",
    "git add .  # 注意空格\n",
    "git commit -m\"shuoming\"\n",
    "git push --set -upstream origin study  "
   ]
  },
  {
   "cell_type": "markdown",
   "id": "8e383e9a-9d88-4bb8-8274-261c2654b2d2",
   "metadata": {},
   "source": [
    "#### 如何git切换分支了。测试一下吧。\n"
   ]
  },
  {
   "cell_type": "code",
   "execution_count": null,
   "id": "ce2e49ac-73c6-47fd-9a99-ea9f7f4ac9ad",
   "metadata": {},
   "outputs": [],
   "source": [
    "git branch --list \n",
    "git switch master\n",
    "#error: Your local changes to the following files would be overwritten by checkout:\n",
    "        自用git.ipynb\n",
    "#Please commit your changes or stash them before you switch branches.\n",
    "#Aborting"
   ]
  },
  {
   "cell_type": "code",
   "execution_count": null,
   "id": "8f1a3b06-8630-4262-a635-cc585021b672",
   "metadata": {},
   "outputs": [],
   "source": [
    "# 下一次打开git bash，居然还是study的分支。\n",
    "#如果我换一台电脑，在study的内容更改了。怎么合并内容了。先不研究了。慢慢探索吧。"
   ]
  }
 ],
 "metadata": {
  "kernelspec": {
   "display_name": "Python 3 (ipykernel)",
   "language": "python",
   "name": "python3"
  },
  "language_info": {
   "codemirror_mode": {
    "name": "ipython",
    "version": 3
   },
   "file_extension": ".py",
   "mimetype": "text/x-python",
   "name": "python",
   "nbconvert_exporter": "python",
   "pygments_lexer": "ipython3",
   "version": "3.9.12"
  }
 },
 "nbformat": 4,
 "nbformat_minor": 5
}
