{
 "cells": [
  {
   "cell_type": "markdown",
   "id": "cc957e39-afcf-41ad-8d92-9dbe47421133",
   "metadata": {},
   "source": [
    "## git使用\n",
    "研究个git研究了半天，主流，什么分支都不懂。也没有适合的教程。\n",
    "我就是学学编程，做做笔记，然后笔记在云端和本地同步，就这个简单的要求啊。，\n",
    "最后还是根据《自学是一门手艺》里面一步步来吧。"
   ]
  }
 ],
 "metadata": {
  "kernelspec": {
   "display_name": "Python 3 (ipykernel)",
   "language": "python",
   "name": "python3"
  },
  "language_info": {
   "codemirror_mode": {
    "name": "ipython",
    "version": 3
   },
   "file_extension": ".py",
   "mimetype": "text/x-python",
   "name": "python",
   "nbconvert_exporter": "python",
   "pygments_lexer": "ipython3",
   "version": "3.9.12"
  }
 },
 "nbformat": 4,
 "nbformat_minor": 5
}
